{
 "cells": [
  {
   "cell_type": "markdown",
   "id": "2348332f-e4a3-4e41-84d6-00b15cbbbb3e",
   "metadata": {},
   "source": [
    "Write a Python program to classify a given number into one of\n",
    "three categories: negative, zero, or positive. The program should take an integer input and print out one of the following\n",
    "statements based on the input:\n",
    "&quot;The number is negative.&quot; if the number is less than zero. &quot;The number is zero.&#039; if the number is exactly zero.\n",
    "&quot;The number is positive.&quot; if the number is more than zero. Example:\n",
    "Input: 3\n",
    "Output: The number is positive.\n",
    "Input: -5\n",
    "Output: The number is negative.\n",
    "Input: 0\n",
    "Output: The number is zero."
   ]
  },
  {
   "cell_type": "code",
   "execution_count": null,
   "id": "a67a723e-7c32-418b-beae-cc7ed492903b",
   "metadata": {},
   "outputs": [],
   "source": [
    "# Function to classify a number into negative, zero, or positive\n",
    "def classify_number(number):\n",
    "    if number < 0:\n",
    "        print(\"The number is negative.\")\n",
    "    elif number == 0:\n",
    "        print(\"The number is zero.\")\n",
    "    else:\n",
    "        print(\"The number is positive.\")\n",
    "\n",
    "# Taking user input for the number\n",
    "user_input = int(input(\"Enter a number: \"))\n",
    "\n",
    "# Calling the function to classify and print the result\n",
    "classify_number(user_input)\n"
   ]
  }
 ],
 "metadata": {
  "kernelspec": {
   "display_name": "Python 3 (ipykernel)",
   "language": "python",
   "name": "python3"
  },
  "language_info": {
   "codemirror_mode": {
    "name": "ipython",
    "version": 3
   },
   "file_extension": ".py",
   "mimetype": "text/x-python",
   "name": "python",
   "nbconvert_exporter": "python",
   "pygments_lexer": "ipython3",
   "version": "3.10.8"
  }
 },
 "nbformat": 4,
 "nbformat_minor": 5
}
